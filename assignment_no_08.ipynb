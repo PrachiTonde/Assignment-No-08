{
  "nbformat": 4,
  "nbformat_minor": 0,
  "metadata": {
    "colab": {
      "provenance": []
    },
    "kernelspec": {
      "name": "python3",
      "display_name": "Python 3"
    },
    "language_info": {
      "name": "python"
    }
  },
  "cells": [
    {
      "cell_type": "code",
      "execution_count": null,
      "metadata": {
        "colab": {
          "base_uri": "https://localhost:8080/"
        },
        "id": "r3Q6XS--wuDY",
        "outputId": "308d6b5c-a20a-4717-d6e6-52199b5a016c"
      },
      "outputs": [
        {
          "output_type": "stream",
          "name": "stdout",
          "text": [
            "Enter the volume ofH2S04 required in ml:30\n",
            "Enter the value of sample inlitres:0.2\n",
            "Alkalinity Removed:  30.0 'mg\n",
            "Total Alkalinity: 150.0 mg/lit\n",
            "Enter the value of OH-Alkalinity present : 5\n",
            "Enter the volume ofH2S04 required in ml :11\n",
            "Alkalinity Removed:  11.0 mg\n",
            "Carbonate Alkalinity upto pH8.3: 55.0 mgperlit\n",
            "Carbonate Alkalinity: 50.0 'mg/lit\n",
            "Bicarbonate Alkalinity: 45.0 mg/it\n"
          ]
        }
      ],
      "source": [
        "# To determine alkalinity of given sample\n",
        "H2S04_req = float(input(\"Enter the volume ofH2S04 required in ml:\")) #Added variable definition and changed spacing in variable name to be consistent.\n",
        "Sample = float(input(\"Enter the value of sample inlitres:\"))\n",
        "Alkalinity_Removed = H2S04_req #uncommented and fixed spacing in variable name\n",
        "print(\"Alkalinity Removed: \",Alkalinity_Removed, \"'mg\")\n",
        "Alk_mgperlit = Alkalinity_Removed/ Sample #uncommented and fixed spacing in variable name\n",
        "print(\"Total Alkalinity:\",Alk_mgperlit,\"mg/lit\") #uncommented and fixed spacing in variable name\n",
        "OH= float (input(\"Enter the value of OH-Alkalinity present : \"))\n",
        "#Alkalinity removed till pH of 8.3\n",
        "H2S04_req = float (input(\"Enter the volume ofH2S04 required in ml :\")) #Added variable definition and changed spacing in variable name to be consistent.\n",
        "Alkalinity_Removed = H2S04_req #uncommented and fixed spacing in variable name\n",
        "print(\"Alkalinity Removed: \",Alkalinity_Removed, \"mg\")\n",
        "CO3_Combined = Alkalinity_Removed/Sample #uncommented and fixed spacing in variable name\n",
        "print (\"Carbonate Alkalinity upto pH8.3:\",CO3_Combined, \"mgperlit\" )\n",
        "CO3 = CO3_Combined - OH #uncommented\n",
        "print(\"Carbonate Alkalinity:\", CO3,\"'mg/lit\")\n",
        "HCO3 = Alk_mgperlit - 2*CO3 - OH #uncommented and fixed spacing in variable name\n",
        "print(\"Bicarbonate Alkalinity:\", HCO3, \"mg/it\")"
      ]
    }
  ]
}